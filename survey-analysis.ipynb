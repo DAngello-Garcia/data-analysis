{
 "cells": [
  {
   "cell_type": "code",
   "execution_count": 1,
   "metadata": {},
   "outputs": [
    {
     "data": {
      "text/html": [
       "<div>\n",
       "<style scoped>\n",
       "    .dataframe tbody tr th:only-of-type {\n",
       "        vertical-align: middle;\n",
       "    }\n",
       "\n",
       "    .dataframe tbody tr th {\n",
       "        vertical-align: top;\n",
       "    }\n",
       "\n",
       "    .dataframe thead th {\n",
       "        text-align: right;\n",
       "    }\n",
       "</style>\n",
       "<table border=\"1\" class=\"dataframe\">\n",
       "  <thead>\n",
       "    <tr style=\"text-align: right;\">\n",
       "      <th></th>\n",
       "      <th>Timestamp</th>\n",
       "      <th>How old are you?</th>\n",
       "      <th>What industry do you work in?</th>\n",
       "      <th>Job title</th>\n",
       "      <th>If your job title needs additional context, please clarify here:</th>\n",
       "      <th>What is your annual salary? (You'll indicate the currency in a later question. If you are part-time or hourly, please enter an annualized equivalent -- what you would earn if you worked the job 40 hours a week, 52 weeks a year.)</th>\n",
       "      <th>How much additional monetary compensation do you get, if any (for example, bonuses or overtime in an average year)? Please only include monetary compensation here, not the value of benefits.</th>\n",
       "      <th>Please indicate the currency</th>\n",
       "      <th>If \"Other,\" please indicate the currency here:</th>\n",
       "      <th>If your income needs additional context, please provide it here:</th>\n",
       "      <th>What country do you work in?</th>\n",
       "      <th>If you're in the U.S., what state do you work in?</th>\n",
       "      <th>What city do you work in?</th>\n",
       "      <th>How many years of professional work experience do you have overall?</th>\n",
       "      <th>How many years of professional work experience do you have in your field?</th>\n",
       "      <th>What is your highest level of education completed?</th>\n",
       "      <th>What is your gender?</th>\n",
       "      <th>What is your race? (Choose all that apply.)</th>\n",
       "    </tr>\n",
       "  </thead>\n",
       "  <tbody>\n",
       "    <tr>\n",
       "      <th>2795</th>\n",
       "      <td>4/27/2021 11:52:09</td>\n",
       "      <td>25-34</td>\n",
       "      <td>Marketing, Advertising &amp; PR</td>\n",
       "      <td>Manager</td>\n",
       "      <td>NaN</td>\n",
       "      <td>105,000</td>\n",
       "      <td>8000.0</td>\n",
       "      <td>USD</td>\n",
       "      <td>NaN</td>\n",
       "      <td>NaN</td>\n",
       "      <td>Usa</td>\n",
       "      <td>Illinois</td>\n",
       "      <td>Chicago</td>\n",
       "      <td>5-7 years</td>\n",
       "      <td>5-7 years</td>\n",
       "      <td>College degree</td>\n",
       "      <td>Woman</td>\n",
       "      <td>White</td>\n",
       "    </tr>\n",
       "  </tbody>\n",
       "</table>\n",
       "</div>"
      ],
      "text/plain": [
       "               Timestamp How old are you? What industry do you work in?  \\\n",
       "2795  4/27/2021 11:52:09            25-34   Marketing, Advertising & PR   \n",
       "\n",
       "     Job title  \\\n",
       "2795   Manager   \n",
       "\n",
       "     If your job title needs additional context, please clarify here:  \\\n",
       "2795                                                NaN                 \n",
       "\n",
       "     What is your annual salary? (You'll indicate the currency in a later question. If you are part-time or hourly, please enter an annualized equivalent -- what you would earn if you worked the job 40 hours a week, 52 weeks a year.)  \\\n",
       "2795                                            105,000                                                                                                                                                                                     \n",
       "\n",
       "      How much additional monetary compensation do you get, if any (for example, bonuses or overtime in an average year)? Please only include monetary compensation here, not the value of benefits.  \\\n",
       "2795                                             8000.0                                                                                                                                                \n",
       "\n",
       "     Please indicate the currency  \\\n",
       "2795                          USD   \n",
       "\n",
       "     If \"Other,\" please indicate the currency here:   \\\n",
       "2795                                             NaN   \n",
       "\n",
       "     If your income needs additional context, please provide it here:  \\\n",
       "2795                                                NaN                 \n",
       "\n",
       "     What country do you work in?  \\\n",
       "2795                          Usa   \n",
       "\n",
       "     If you're in the U.S., what state do you work in?  \\\n",
       "2795                                          Illinois   \n",
       "\n",
       "     What city do you work in?  \\\n",
       "2795                  Chicago    \n",
       "\n",
       "     How many years of professional work experience do you have overall?  \\\n",
       "2795                                          5-7 years                    \n",
       "\n",
       "     How many years of professional work experience do you have in your field?  \\\n",
       "2795                                          5-7 years                          \n",
       "\n",
       "     What is your highest level of education completed? What is your gender?  \\\n",
       "2795                                     College degree                Woman   \n",
       "\n",
       "     What is your race? (Choose all that apply.)  \n",
       "2795                                       White  "
      ]
     },
     "execution_count": 1,
     "metadata": {},
     "output_type": "execute_result"
    }
   ],
   "source": [
    "import pandas as pd\n",
    "import numpy as np\n",
    "\n",
    "\n",
    "responses = pd.read_csv(\"./form-responses-2024-7-4.csv\")\n",
    "responses.sample()"
   ]
  },
  {
   "cell_type": "markdown",
   "metadata": {},
   "source": [
    "## Data cleaning and transformation"
   ]
  },
  {
   "cell_type": "code",
   "execution_count": 2,
   "metadata": {},
   "outputs": [],
   "source": [
    "new_columns = {\n",
    "    \"How old are you?\": \"age\",\n",
    "    \"What industry do you work in?\": \"industry\",\n",
    "    \"Job title\": \"job_title\",\n",
    "    \"What is your annual salary? (You'll indicate the currency in a later question. If you are part-time or hourly, please enter an annualized equivalent -- what you would earn if you worked the job 40 hours a week, 52 weeks a year.)\": \"anual_salary\",\n",
    "    \"How much additional monetary compensation do you get, if any (for example, bonuses or overtime in an average year)? Please only include monetary compensation here, not the value of benefits.\": \"bonuses\",\n",
    "    \"Please indicate the currency\": \"currency\",\n",
    "    \"What country do you work in?\": \"country\",\n",
    "    \"If you're in the U.S., what state do you work in?\": \"us_state\",\n",
    "    \"What city do you work in?\": \"city\",\n",
    "    \"How many years of professional work experience do you have in your field?\": \"field_experience\",\n",
    "    \"What is your highest level of education completed?\": \"education\",\n",
    "}\n",
    "responses.rename(columns=new_columns, inplace=True)"
   ]
  },
  {
   "cell_type": "code",
   "execution_count": 3,
   "metadata": {},
   "outputs": [],
   "source": [
    "\n",
    "responses['bonuses'] = responses['bonuses'].fillna(0)\n",
    "responses['anual_salary'] = responses['anual_salary'].str.replace(',', '').astype(int)\n",
    "responses['bonuses'] = responses['bonuses'].astype(int)\n",
    "\n",
    "responses['salary'] = responses['anual_salary'] + responses['bonuses']\n",
    "responses = responses[['age', 'industry', 'job_title', 'salary', 'currency', 'country', 'us_state', 'city', 'field_experience', 'education']]"
   ]
  },
  {
   "cell_type": "code",
   "execution_count": 4,
   "metadata": {},
   "outputs": [],
   "source": [
    "responses.dropna(subset=['industry', 'job_title'], inplace=True)\n",
    "\n",
    "def capitalize(title):\n",
    "    return title.capitalize().strip()\n",
    "\n",
    "responses['industry'] = responses['industry'].apply(capitalize)\n",
    "responses['job_title'] = responses['job_title'].apply(capitalize)"
   ]
  },
  {
   "cell_type": "code",
   "execution_count": 5,
   "metadata": {},
   "outputs": [],
   "source": [
    "grouped_industry = responses['industry'].value_counts().sort_index()\n",
    "grouped_industry_df = grouped_industry.reset_index()\n",
    "grouped_industry_df.columns = ['industry', 'count']\n",
    "grouped_industry_df.to_csv('grouped_industry.txt', index=False, header=True, sep='\\t')"
   ]
  },
  {
   "cell_type": "markdown",
   "metadata": {},
   "source": [
    "There are 1003 different values in the industry column. I tried using the Levenshtein Distance algorithm, but it removed valuable information, so I'm going to standardize the values manually"
   ]
  }
 ],
 "metadata": {
  "kernelspec": {
   "display_name": "Python 3",
   "language": "python",
   "name": "python3"
  },
  "language_info": {
   "codemirror_mode": {
    "name": "ipython",
    "version": 3
   },
   "file_extension": ".py",
   "mimetype": "text/x-python",
   "name": "python",
   "nbconvert_exporter": "python",
   "pygments_lexer": "ipython3",
   "version": "3.11.1"
  }
 },
 "nbformat": 4,
 "nbformat_minor": 2
}
